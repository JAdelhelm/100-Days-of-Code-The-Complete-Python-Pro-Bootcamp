{
 "cells": [
  {
   "cell_type": "code",
   "execution_count": 26,
   "metadata": {},
   "outputs": [
    {
     "name": "stdout",
     "output_type": "stream",
     "text": [
      "Sunrises at ['2023-12-19', '07:10:35+00:00']\n",
      "Sunset at ['2023-12-19', '15:28:54+00:00']\n"
     ]
    }
   ],
   "source": [
    "import requests\n",
    "import tkinter\n",
    "from datetime import datetime\n",
    "\n",
    "MY_LAT = \"\"\n",
    "MY_LONG = \"\"\n",
    "\n",
    "parameter = {\n",
    "    \"lat\": MY_LAT,\n",
    "    \"lng\": MY_LONG,\n",
    "    \"date\": datetime.now().date(),\n",
    "    \"formatted\": 0\n",
    "\n",
    "}\n",
    "\n",
    "\n",
    "response_sunset = requests.get(\"https://api.sunrise-sunset.org/json\", params=parameter)\n",
    "response_sunset.raise_for_status()\n",
    "response_json = response_sunset.json()\n",
    "# print(response_sunset.json())\n",
    "\n",
    "sunrise = response_json[\"results\"][\"sunrise\"].split(\"T\")\n",
    "sunset = response_json[\"results\"][\"sunset\"].split(\"T\")\n",
    "\n",
    "print(f\"Sunrises at {sunrise}\")\n",
    "print(f\"Sunset at {sunset}\")\n",
    "\n",
    "# print(datetime.now().date())"
   ]
  },
  {
   "cell_type": "code",
   "execution_count": null,
   "metadata": {},
   "outputs": [],
   "source": []
  }
 ],
 "metadata": {
  "kernelspec": {
   "display_name": "Python 3",
   "language": "python",
   "name": "python3"
  },
  "language_info": {
   "codemirror_mode": {
    "name": "ipython",
    "version": 3
   },
   "file_extension": ".py",
   "mimetype": "text/x-python",
   "name": "python",
   "nbconvert_exporter": "python",
   "pygments_lexer": "ipython3",
   "version": "3.9.17"
  }
 },
 "nbformat": 4,
 "nbformat_minor": 2
}
