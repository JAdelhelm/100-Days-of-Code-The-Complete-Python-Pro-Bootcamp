{
 "cells": [
  {
   "cell_type": "code",
   "execution_count": 3,
   "metadata": {},
   "outputs": [
    {
     "name": "stdout",
     "output_type": "stream",
     "text": [
      "\n",
      "    _______\n",
      "---'   ____)____\n",
      "          ______)\n",
      "       __________)\n",
      "      (____)\n",
      "---.__(___)\n",
      "\n",
      "\n",
      "    _______\n",
      "---'   ____)\n",
      "      (_____)\n",
      "      (_____)\n",
      "      (____)\n",
      "---.__(___)\n",
      "\n",
      "You lose\n"
     ]
    }
   ],
   "source": [
    "# Go to https://replit.com/@appbrewery/rock-paper-scissors-start?v=1\n",
    "import random\n",
    "rock = \"\"\"\n",
    "    _______\n",
    "---'   ____)\n",
    "      (_____)\n",
    "      (_____)\n",
    "      (____)\n",
    "---.__(___)\n",
    "\"\"\"\n",
    "\n",
    "paper = \"\"\"\n",
    "     _______\n",
    "---'    ____)____\n",
    "           ______)\n",
    "          _______)\n",
    "         _______)\n",
    "---.__________)\n",
    "\"\"\"\n",
    "\n",
    "scissors = \"\"\"\n",
    "    _______\n",
    "---'   ____)____\n",
    "          ______)\n",
    "       __________)\n",
    "      (____)\n",
    "---.__(___)\n",
    "\"\"\"\n",
    "\n",
    "\n",
    "try:\n",
    "    choose = input(\"What do you choose? Type 0 for Rock, 1 for Paper or 2 for Scissors.\\n\")\n",
    "    number = int(choose)\n",
    "    \n",
    "    rand_player = random.randint(0,2)\n",
    "    rand_computer = random.randint(0,2)\n",
    "    \n",
    "    # Print Player\n",
    "    if rand_player == 0:\n",
    "        print(rock)\n",
    "    elif rand_player == 1:\n",
    "        print(paper)\n",
    "    elif rand_player == 2:\n",
    "        print(scissors)\n",
    "\n",
    "    # Print Computer\n",
    "    print(\"Computer chose:\")\n",
    "    if rand_computer == 0:\n",
    "        print(rock)\n",
    "    elif rand_computer == 1:\n",
    "        print(paper)\n",
    "    elif rand_computer == 2:\n",
    "        print(scissors)\n",
    "    \n",
    "    # Possibilities 9 Combinations\n",
    "    if rand_player == rand_computer:\n",
    "        print(\"Draw.\")\n",
    "    ##\n",
    "    elif rand_player == 0 and rand_computer == 1:\n",
    "        print(\"You lose.\")\n",
    "    elif rand_player == 0 and rand_computer == 2:\n",
    "        print(\"You win.\")\n",
    "    ##\n",
    "    elif rand_player == 1 and rand_computer == 0:\n",
    "        print(\"You win.\")\n",
    "    elif rand_player == 1 and rand_computer == 2:\n",
    "        print(\"You lose.\")\n",
    "    ##\n",
    "    elif rand_player == 2 and rand_computer == 0:\n",
    "        print(\"You lose.\")\n",
    "    elif rand_player == 2 and rand_computer == 1:\n",
    "        print(\"You win.\")\n",
    "\n",
    "\n",
    "\n",
    "except:\n",
    "    print(\"Not a Number as input\")"
   ]
  },
  {
   "cell_type": "code",
   "execution_count": null,
   "metadata": {},
   "outputs": [],
   "source": []
  }
 ],
 "metadata": {
  "kernelspec": {
   "display_name": "Python 3",
   "language": "python",
   "name": "python3"
  },
  "language_info": {
   "codemirror_mode": {
    "name": "ipython",
    "version": 3
   },
   "file_extension": ".py",
   "mimetype": "text/x-python",
   "name": "python",
   "nbconvert_exporter": "python",
   "pygments_lexer": "ipython3",
   "version": "3.10.6"
  },
  "orig_nbformat": 4,
  "vscode": {
   "interpreter": {
    "hash": "ca3ba97cf16e4df773e2c115e90534541eb19dd62215691ae20be2966af48b76"
   }
  }
 },
 "nbformat": 4,
 "nbformat_minor": 2
}
