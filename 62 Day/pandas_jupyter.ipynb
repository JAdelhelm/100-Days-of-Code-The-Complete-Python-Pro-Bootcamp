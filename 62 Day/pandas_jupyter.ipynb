{
 "cells": [
  {
   "cell_type": "code",
   "execution_count": 1,
   "metadata": {},
   "outputs": [
    {
     "data": {
      "text/html": [
       "<div>\n",
       "<style scoped>\n",
       "    .dataframe tbody tr th:only-of-type {\n",
       "        vertical-align: middle;\n",
       "    }\n",
       "\n",
       "    .dataframe tbody tr th {\n",
       "        vertical-align: top;\n",
       "    }\n",
       "\n",
       "    .dataframe thead th {\n",
       "        text-align: right;\n",
       "    }\n",
       "</style>\n",
       "<table border=\"1\" class=\"dataframe\">\n",
       "  <thead>\n",
       "    <tr style=\"text-align: right;\">\n",
       "      <th></th>\n",
       "      <th>Cafe Name</th>\n",
       "      <th>Location</th>\n",
       "      <th>Open</th>\n",
       "      <th>Close</th>\n",
       "      <th>Coffee</th>\n",
       "      <th>Wifi</th>\n",
       "      <th>Power</th>\n",
       "    </tr>\n",
       "  </thead>\n",
       "  <tbody>\n",
       "    <tr>\n",
       "      <th>0</th>\n",
       "      <td>Lighthaus</td>\n",
       "      <td>https://goo.gl/maps/2EvhB4oq4gyUXKXx9</td>\n",
       "      <td>11AM</td>\n",
       "      <td>3:30PM</td>\n",
       "      <td>☕☕☕☕️</td>\n",
       "      <td>💪💪</td>\n",
       "      <td>🔌🔌🔌</td>\n",
       "    </tr>\n",
       "    <tr>\n",
       "      <th>1</th>\n",
       "      <td>Esters</td>\n",
       "      <td>https://goo.gl/maps/13Tjc36HuPWLELaSA</td>\n",
       "      <td>8AM</td>\n",
       "      <td>3PM</td>\n",
       "      <td>☕☕☕☕</td>\n",
       "      <td>💪💪💪</td>\n",
       "      <td>🔌</td>\n",
       "    </tr>\n",
       "    <tr>\n",
       "      <th>2</th>\n",
       "      <td>Ginger &amp; White</td>\n",
       "      <td>https://goo.gl/maps/DqMx2g5LiAqv3pJQ9</td>\n",
       "      <td>7:30AM</td>\n",
       "      <td>5:30PM</td>\n",
       "      <td>☕☕☕</td>\n",
       "      <td>✘</td>\n",
       "      <td>🔌</td>\n",
       "    </tr>\n",
       "    <tr>\n",
       "      <th>3</th>\n",
       "      <td>Mare Street Market</td>\n",
       "      <td>https://goo.gl/maps/ALR8iBiNN6tVfuAA8</td>\n",
       "      <td>8AM</td>\n",
       "      <td>1PM</td>\n",
       "      <td>☕☕</td>\n",
       "      <td>💪💪💪</td>\n",
       "      <td>🔌🔌🔌</td>\n",
       "    </tr>\n",
       "  </tbody>\n",
       "</table>\n",
       "</div>"
      ],
      "text/plain": [
       "            Cafe Name                               Location    Open    Close  \\\n",
       "0           Lighthaus  https://goo.gl/maps/2EvhB4oq4gyUXKXx9    11AM   3:30PM   \n",
       "1              Esters  https://goo.gl/maps/13Tjc36HuPWLELaSA     8AM      3PM   \n",
       "2      Ginger & White  https://goo.gl/maps/DqMx2g5LiAqv3pJQ9  7:30AM   5:30PM   \n",
       "3  Mare Street Market  https://goo.gl/maps/ALR8iBiNN6tVfuAA8     8AM      1PM   \n",
       "\n",
       "  Coffee Wifi Power  \n",
       "0  ☕☕☕☕️   💪💪   🔌🔌🔌  \n",
       "1   ☕☕☕☕  💪💪💪     🔌  \n",
       "2    ☕☕☕    ✘     🔌  \n",
       "3     ☕☕  💪💪💪   🔌🔌🔌  "
      ]
     },
     "execution_count": 1,
     "metadata": {},
     "output_type": "execute_result"
    }
   ],
   "source": [
    "import pandas as pd\n",
    "\n",
    "df = pd.read_csv(\"./cafe-data.csv\")\n",
    "df.head()"
   ]
  },
  {
   "cell_type": "code",
   "execution_count": 2,
   "metadata": {},
   "outputs": [
    {
     "data": {
      "text/plain": [
       "['Cafe Name', 'Location', 'Open', 'Close', 'Coffee', 'Wifi', 'Power']"
      ]
     },
     "execution_count": 2,
     "metadata": {},
     "output_type": "execute_result"
    }
   ],
   "source": [
    "list(df.columns)"
   ]
  },
  {
   "cell_type": "code",
   "execution_count": 3,
   "metadata": {},
   "outputs": [
    {
     "data": {
      "text/plain": [
       "array([['Lighthaus', 'https://goo.gl/maps/2EvhB4oq4gyUXKXx9', '11AM',\n",
       "        ' 3:30PM', '☕☕☕☕️', '💪💪', '🔌🔌🔌'],\n",
       "       ['Esters', 'https://goo.gl/maps/13Tjc36HuPWLELaSA', '8AM', '3PM',\n",
       "        '☕☕☕☕', '💪💪💪', '🔌'],\n",
       "       ['Ginger & White', 'https://goo.gl/maps/DqMx2g5LiAqv3pJQ9',\n",
       "        '7:30AM', '5:30PM', '☕☕☕', '✘', '🔌'],\n",
       "       ['Mare Street Market', 'https://goo.gl/maps/ALR8iBiNN6tVfuAA8',\n",
       "        '8AM', '1PM', '☕☕', '💪💪💪', '🔌🔌🔌']], dtype=object)"
      ]
     },
     "execution_count": 3,
     "metadata": {},
     "output_type": "execute_result"
    }
   ],
   "source": [
    "df.values"
   ]
  },
  {
   "cell_type": "code",
   "execution_count": 4,
   "metadata": {},
   "outputs": [
    {
     "name": "stdout",
     "output_type": "stream",
     "text": [
      "['Lighthaus' 'https://goo.gl/maps/2EvhB4oq4gyUXKXx9' '11AM' ' 3:30PM'\n",
      " '☕☕☕☕️' '💪💪' '🔌🔌🔌']\n",
      "['Esters' 'https://goo.gl/maps/13Tjc36HuPWLELaSA' '8AM' '3PM' '☕☕☕☕' '💪💪💪'\n",
      " '🔌']\n",
      "['Ginger & White' 'https://goo.gl/maps/DqMx2g5LiAqv3pJQ9' '7:30AM'\n",
      " '5:30PM' '☕☕☕' '✘' '🔌']\n",
      "['Mare Street Market' 'https://goo.gl/maps/ALR8iBiNN6tVfuAA8' '8AM' '1PM'\n",
      " '☕☕' '💪💪💪' '🔌🔌🔌']\n"
     ]
    }
   ],
   "source": [
    "for row in df.values:\n",
    "    print(row)"
   ]
  },
  {
   "cell_type": "code",
   "execution_count": 11,
   "metadata": {},
   "outputs": [
    {
     "data": {
      "text/html": [
       "<div>\n",
       "<style scoped>\n",
       "    .dataframe tbody tr th:only-of-type {\n",
       "        vertical-align: middle;\n",
       "    }\n",
       "\n",
       "    .dataframe tbody tr th {\n",
       "        vertical-align: top;\n",
       "    }\n",
       "\n",
       "    .dataframe thead th {\n",
       "        text-align: right;\n",
       "    }\n",
       "</style>\n",
       "<table border=\"1\" class=\"dataframe\">\n",
       "  <thead>\n",
       "    <tr style=\"text-align: right;\">\n",
       "      <th></th>\n",
       "      <th>Coffe</th>\n",
       "      <th>Rating</th>\n",
       "    </tr>\n",
       "  </thead>\n",
       "  <tbody>\n",
       "    <tr>\n",
       "      <th>0</th>\n",
       "      <td>1</td>\n",
       "      <td>2</td>\n",
       "    </tr>\n",
       "  </tbody>\n",
       "</table>\n",
       "</div>"
      ],
      "text/plain": [
       "   Coffe  Rating\n",
       "0      1       2"
      ]
     },
     "execution_count": 11,
     "metadata": {},
     "output_type": "execute_result"
    }
   ],
   "source": [
    "pd.DataFrame({\"Coffe\": [1], \"Rating\":[2]})"
   ]
  }
 ],
 "metadata": {
  "kernelspec": {
   "display_name": "dl_env",
   "language": "python",
   "name": "python3"
  },
  "language_info": {
   "codemirror_mode": {
    "name": "ipython",
    "version": 3
   },
   "file_extension": ".py",
   "mimetype": "text/x-python",
   "name": "python",
   "nbconvert_exporter": "python",
   "pygments_lexer": "ipython3",
   "version": "3.9.17"
  }
 },
 "nbformat": 4,
 "nbformat_minor": 2
}
