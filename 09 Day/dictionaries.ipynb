{
 "cells": [
  {
   "attachments": {},
   "cell_type": "markdown",
   "metadata": {},
   "source": [
    "# Introduction to dictionaries"
   ]
  },
  {
   "cell_type": "code",
   "execution_count": 12,
   "metadata": {},
   "outputs": [
    {
     "name": "stdout",
     "output_type": "stream",
     "text": [
      "[{'country': 'France', 'visits': 12, 'cities': ['Paris', 'Lille', 'Dijon']}, {'country': 'Germany', 'visits': 5, 'cities': ['Berlin', 'Hamburg', 'Stuttgart']}, {'country': 'Russia', 'visits': 2, 'cities': ['Moscow', 'Saint Petersburg']}]\n"
     ]
    }
   ],
   "source": [
    "travel_log = [\n",
    "{\n",
    "  \"country\": \"France\",\n",
    "  \"visits\": 12,\n",
    "  \"cities\": [\"Paris\", \"Lille\", \"Dijon\"]\n",
    "},\n",
    "{\n",
    "  \"country\": \"Germany\",\n",
    "  \"visits\": 5,\n",
    "  \"cities\": [\"Berlin\", \"Hamburg\", \"Stuttgart\"]\n",
    "},\n",
    "]\n",
    "#🚨 Do NOT change the code above\n",
    "\n",
    "#TODO: Write the function that will allow new countries\n",
    "#to be added to the travel_log. 👇\n",
    "def add_new_country(country, visits, city):\n",
    "    travel_log.append({\"country\": country, \"visits\": visits, \"cities\": city})\n",
    "    \n",
    "\n",
    "\n",
    "\n",
    "#🚨 Do not change the code below\n",
    "add_new_country(\"Russia\", 2, [\"Moscow\", \"Saint Petersburg\"])\n",
    "print(travel_log)"
   ]
  },
  {
   "cell_type": "code",
   "execution_count": 9,
   "metadata": {},
   "outputs": [
    {
     "data": {
      "text/plain": [
       "{'item1': 1, 'item2': 2, 'item3': 3}"
      ]
     },
     "execution_count": 9,
     "metadata": {},
     "output_type": "execute_result"
    }
   ],
   "source": [
    "default_data = {\n",
    "    'item1': 1,\n",
    "    'item2': 2,\n",
    "}\n",
    "default_data['item3'] = 3\n",
    "default_data"
   ]
  },
  {
   "cell_type": "code",
   "execution_count": 11,
   "metadata": {},
   "outputs": [
    {
     "name": "stdout",
     "output_type": "stream",
     "text": [
      "<class 'list'>\n"
     ]
    }
   ],
   "source": [
    "print(type(travel_log))\n"
   ]
  },
  {
   "cell_type": "code",
   "execution_count": 13,
   "metadata": {},
   "outputs": [],
   "source": [
    "order = {\n",
    "    \"starter\": {1: \"Salad\", 2: \"Soup\"},\n",
    "    \"main\": {1: [\"Burger\", \"Fries\"], 2: [\"Steak\"]},\n",
    "    \"dessert\": {1: [\"Ice Cream\"], 2: []},\n",
    "}"
   ]
  },
  {
   "attachments": {},
   "cell_type": "markdown",
   "metadata": {},
   "source": [
    "Dictionaries, auf den KEY-WERT achten"
   ]
  },
  {
   "cell_type": "code",
   "execution_count": 19,
   "metadata": {},
   "outputs": [
    {
     "name": "stdout",
     "output_type": "stream",
     "text": [
      "['Burger', 'Fries']\n",
      "['Steak']\n",
      "Steak\n"
     ]
    }
   ],
   "source": [
    "print(order[\"main\"][1])\n",
    "print(order[\"main\"][2])\n",
    "print(order[\"main\"][2][0])"
   ]
  },
  {
   "cell_type": "code",
   "execution_count": null,
   "metadata": {},
   "outputs": [],
   "source": [
    "print(order[\"main\"][0])"
   ]
  },
  {
   "cell_type": "code",
   "execution_count": null,
   "metadata": {},
   "outputs": [],
   "source": []
  }
 ],
 "metadata": {
  "kernelspec": {
   "display_name": "Python 3",
   "language": "python",
   "name": "python3"
  },
  "language_info": {
   "codemirror_mode": {
    "name": "ipython",
    "version": 3
   },
   "file_extension": ".py",
   "mimetype": "text/x-python",
   "name": "python",
   "nbconvert_exporter": "python",
   "pygments_lexer": "ipython3",
   "version": "3.10.6"
  },
  "orig_nbformat": 4,
  "vscode": {
   "interpreter": {
    "hash": "ca3ba97cf16e4df773e2c115e90534541eb19dd62215691ae20be2966af48b76"
   }
  }
 },
 "nbformat": 4,
 "nbformat_minor": 2
}
