{
 "cells": [
  {
   "cell_type": "markdown",
   "metadata": {},
   "source": [
    "# Introduction"
   ]
  },
  {
   "cell_type": "markdown",
   "metadata": {},
   "source": [
    "Google Trends gives us an estimate of search volume. Let's explore if search popularity relates to other kinds of data. Perhaps there are patterns in Google's search volume and the price of Bitcoin or a hot stock like Tesla. Perhaps search volume for the term \"Unemployment Benefits\" can tell us something about the actual unemployment rate? \n",
    "\n",
    "Data Sources: <br>\n",
    "<ul>\n",
    "<li> <a href=\"https://fred.stlouisfed.org/series/UNRATE/\">Unemployment Rate from FRED</a></li>\n",
    "<li> <a href=\"https://trends.google.com/trends/explore\">Google Trends</a> </li>  \n",
    "<li> <a href=\"https://finance.yahoo.com/quote/TSLA/history?p=TSLA\">Yahoo Finance for Tesla Stock Price</a> </li>    \n",
    "<li> <a href=\"https://finance.yahoo.com/quote/BTC-USD/history?p=BTC-USD\">Yahoo Finance for Bitcoin Stock Price</a> </li>\n",
    "</ul>"
   ]
  },
  {
   "cell_type": "markdown",
   "metadata": {},
   "source": [
    "# Import Statements"
   ]
  },
  {
   "cell_type": "code",
   "execution_count": null,
   "metadata": {},
   "outputs": [],
   "source": [
    "import pandas as pd\n",
    "import matplotlib.pyplot as plt"
   ]
  },
  {
   "cell_type": "markdown",
   "metadata": {},
   "source": [
    "# Read the Data\n",
    "\n",
    "Download and add the .csv files to the same folder as your notebook."
   ]
  },
  {
   "cell_type": "code",
   "execution_count": null,
   "metadata": {},
   "outputs": [],
   "source": [
    "df_tesla = pd.read_csv('TESLA Search Trend vs Price.csv')\n",
    "\n",
    "df_btc_search = pd.read_csv('Bitcoin Search Trend.csv')\n",
    "df_btc_price = pd.read_csv('Daily Bitcoin Price.csv')\n",
    "\n",
    "df_unemployment = pd.read_csv('UE Benefits Search vs UE Rate 2004-19.csv')"
   ]
  },
  {
   "cell_type": "markdown",
   "metadata": {},
   "source": [
    "# Data Exploration"
   ]
  },
  {
   "cell_type": "markdown",
   "metadata": {},
   "source": [
    "### Tesla"
   ]
  },
  {
   "cell_type": "markdown",
   "metadata": {},
   "source": [
    "**Challenge**: <br>\n",
    "<ul>\n",
    "<li>What are the shapes of the dataframes? </li>\n",
    "<li>How many rows and columns? </li>\n",
    "<li>What are the column names? </li>\n",
    "<li>Complete the f-string to show the largest/smallest number in the search data column</li> \n",
    "<li>Try the <code>.describe()</code> function to see some useful descriptive statistics</li>\n",
    "<li>What is the periodicity of the time series data (daily, weekly, monthly)? </li>\n",
    "<li>What does a value of 100 in the Google Trend search popularity actually mean?</li>\n",
    "</ul>"
   ]
  },
  {
   "cell_type": "code",
   "execution_count": null,
   "metadata": {},
   "outputs": [],
   "source": [
    "df_tesla.shape, df_btc_search.shape, df_btc_price.shape, df_unemployment.shape"
   ]
  },
  {
   "cell_type": "code",
   "execution_count": null,
   "metadata": {},
   "outputs": [],
   "source": [
    "print(f\"Column-Names of df_tesla: {df_tesla.columns.values}\\n\")\n",
    "print(f\"Column-Names of df_btc_search: {df_btc_search.columns.values}\\n\")\n",
    "print(f\"Column-Names of df_btc_price: {df_btc_price.columns.values}\\n\")\n",
    "print(f\"Column-Names of df_unemployment: {df_unemployment.columns.values}\\n\")"
   ]
  },
  {
   "cell_type": "code",
   "execution_count": null,
   "metadata": {},
   "outputs": [],
   "source": [
    "df_tesla.head(2)"
   ]
  },
  {
   "cell_type": "code",
   "execution_count": null,
   "metadata": {},
   "outputs": [],
   "source": [
    "print(f'Largest value for Tesla in Web Search: {df_tesla[\"TSLA_WEB_SEARCH\"].max()} / Index: {df_tesla[\"TSLA_WEB_SEARCH\"].idxmax()}')\n",
    "print(f'Smallest value for Tesla in Web Search: {df_tesla[\"TSLA_WEB_SEARCH\"].min()} / Index: {df_tesla[\"TSLA_WEB_SEARCH\"].idxmin()}')"
   ]
  },
  {
   "cell_type": "code",
   "execution_count": null,
   "metadata": {},
   "outputs": [],
   "source": []
  },
  {
   "cell_type": "markdown",
   "metadata": {},
   "source": [
    "### Unemployment Data"
   ]
  },
  {
   "cell_type": "code",
   "execution_count": null,
   "metadata": {},
   "outputs": [],
   "source": [
    "df_unemployment.head(2)"
   ]
  },
  {
   "cell_type": "code",
   "execution_count": null,
   "metadata": {},
   "outputs": [],
   "source": [
    "print('Largest value for \"Unemployemnt Benefits\" '\n",
    "      f'in Web Search: {df_unemployment[\"UE_BENEFITS_WEB_SEARCH\"].max()}')"
   ]
  },
  {
   "cell_type": "markdown",
   "metadata": {},
   "source": [
    "### Bitcoin"
   ]
  },
  {
   "cell_type": "code",
   "execution_count": null,
   "metadata": {},
   "outputs": [],
   "source": []
  },
  {
   "cell_type": "code",
   "execution_count": null,
   "metadata": {},
   "outputs": [],
   "source": [
    "df_btc_search.describe()"
   ]
  },
  {
   "cell_type": "code",
   "execution_count": null,
   "metadata": {},
   "outputs": [],
   "source": [
    "print(f'largest BTC News Search: {df_btc_search[\"BTC_NEWS_SEARCH\"].max()} / Index: {df_btc_search[\"BTC_NEWS_SEARCH\"].idxmax()}\\n')\n",
    "print(df_btc_search.loc[39])"
   ]
  },
  {
   "cell_type": "code",
   "execution_count": null,
   "metadata": {},
   "outputs": [],
   "source": [
    "# Periodicity in time series data\n",
    "df_btc_price.head() # daily"
   ]
  },
  {
   "cell_type": "markdown",
   "metadata": {},
   "source": [
    "### Meaning of Google Search numbers:\n",
    "> Numbers represent search interest relative to the highest point on the chart for the given region and time. <br>\n",
    "> A value of 100 is the peak popularity for the term. <br>\n",
    "> A value of 50 means that the term is half as popular. A score of 0 means there was not enough data for this term."
   ]
  },
  {
   "cell_type": "markdown",
   "metadata": {},
   "source": [
    "# Data Cleaning"
   ]
  },
  {
   "cell_type": "markdown",
   "metadata": {},
   "source": [
    "### Check for Missing Values"
   ]
  },
  {
   "cell_type": "markdown",
   "metadata": {},
   "source": [
    "**Challenge**: Are there any missing values in any of the dataframes? If so, which row/rows have missing values? How many missing values are there?"
   ]
  },
  {
   "cell_type": "code",
   "execution_count": null,
   "metadata": {},
   "outputs": [],
   "source": [
    "print(f'Missing values for Tesla?:\\n{df_tesla.isna().sum()}\\n')\n",
    "print(f'Missing values for U/E?: \\n{df_unemployment.isna().sum()}\\n')\n",
    "print(f'Missing values for BTC Search?: \\n{df_btc_search.isna().sum()}\\n')"
   ]
  },
  {
   "cell_type": "code",
   "execution_count": null,
   "metadata": {},
   "outputs": [],
   "source": [
    "print(f'Missing values for BTC price?: \\n{df_btc_price.isna().sum()}\\n')"
   ]
  },
  {
   "cell_type": "code",
   "execution_count": null,
   "metadata": {},
   "outputs": [],
   "source": [
    "df_btc_price[df_btc_price.isnull().any(axis=1)]"
   ]
  },
  {
   "cell_type": "code",
   "execution_count": null,
   "metadata": {},
   "outputs": [],
   "source": [
    "print(f'Number of missing values: 2')"
   ]
  },
  {
   "cell_type": "markdown",
   "metadata": {},
   "source": [
    "**Challenge**: Remove any missing values that you found. "
   ]
  },
  {
   "cell_type": "code",
   "execution_count": null,
   "metadata": {},
   "outputs": [],
   "source": [
    "df_btc_price.dropna(inplace=True)"
   ]
  },
  {
   "cell_type": "markdown",
   "metadata": {},
   "source": [
    "### Convert Strings to DateTime Objects"
   ]
  },
  {
   "cell_type": "markdown",
   "metadata": {},
   "source": [
    "**Challenge**: Check the data type of the entries in the DataFrame MONTH or DATE columns. Convert any strings in to Datetime objects. Do this for all 4 DataFrames. Double check if your type conversion was successful."
   ]
  },
  {
   "cell_type": "code",
   "execution_count": null,
   "metadata": {},
   "outputs": [],
   "source": [
    "df_btc_price.dtypes, df_tesla.dtypes, df_btc_search.dtypes, df_unemployment.dtypes"
   ]
  },
  {
   "cell_type": "code",
   "execution_count": null,
   "metadata": {},
   "outputs": [],
   "source": [
    "df_btc_price[\"DATE\"] = pd.to_datetime(df_btc_price[\"DATE\"], infer_datetime_format=True)\n",
    "df_tesla[\"MONTH\"] = pd.to_datetime(df_tesla[\"MONTH\"], infer_datetime_format=True)\n",
    "df_btc_search[\"MONTH\"] = pd.to_datetime(df_btc_search[\"MONTH\"], infer_datetime_format=True)\n",
    "df_unemployment[\"MONTH\"] = pd.to_datetime(df_unemployment[\"MONTH\"], infer_datetime_format=True)"
   ]
  },
  {
   "cell_type": "code",
   "execution_count": null,
   "metadata": {},
   "outputs": [],
   "source": [
    "df_btc_price.dtypes, df_tesla.dtypes, df_btc_search.dtypes, df_unemployment.dtypes"
   ]
  },
  {
   "cell_type": "code",
   "execution_count": null,
   "metadata": {},
   "outputs": [],
   "source": []
  },
  {
   "cell_type": "markdown",
   "metadata": {},
   "source": [
    "### Converting from Daily to Monthly Data\n",
    "\n",
    "[Pandas .resample() documentation](https://pandas.pydata.org/pandas-docs/stable/reference/api/pandas.DataFrame.resample.html) <br>"
   ]
  },
  {
   "cell_type": "markdown",
   "metadata": {},
   "source": [
    "### Resampling means to average/modify other columns based on the time-series"
   ]
  },
  {
   "cell_type": "code",
   "execution_count": null,
   "metadata": {},
   "outputs": [],
   "source": [
    "pd.set_option('display.float_format', lambda x: '%.3f' % x)\n",
    "df_btc_price.sort_values(\"DATE\")"
   ]
  },
  {
   "cell_type": "code",
   "execution_count": null,
   "metadata": {},
   "outputs": [],
   "source": [
    "# df_btc_daily = df_btc_price.resample('D', on=\"DATE\").last() # No Changes, because based on the day\n",
    "df_btc_monthly = df_btc_price.resample('M', on=\"DATE\").mean() # Mean per month for the bitcoin price - end date per month\n",
    "df_btc_monthly.sort_values(\"DATE\")"
   ]
  },
  {
   "cell_type": "markdown",
   "metadata": {},
   "source": [
    "# Data Visualisation"
   ]
  },
  {
   "cell_type": "markdown",
   "metadata": {},
   "source": [
    "### Notebook Formatting & Style Helpers"
   ]
  },
  {
   "cell_type": "code",
   "execution_count": null,
   "metadata": {},
   "outputs": [],
   "source": [
    "# Create locators for ticks on the time axis"
   ]
  },
  {
   "cell_type": "code",
   "execution_count": null,
   "metadata": {},
   "outputs": [],
   "source": [
    "# Register date converters to avoid warning messages"
   ]
  },
  {
   "cell_type": "markdown",
   "metadata": {},
   "source": [
    "### Tesla Stock Price v.s. Search Volume"
   ]
  },
  {
   "cell_type": "markdown",
   "metadata": {},
   "source": [
    "**Challenge:** Plot the Tesla stock price against the Tesla search volume using a line chart and two different axes. Label one axis 'TSLA Stock Price' and the other 'Search Trend'. "
   ]
  },
  {
   "cell_type": "code",
   "execution_count": null,
   "metadata": {},
   "outputs": [],
   "source": [
    "df_tesla.head(3)"
   ]
  },
  {
   "cell_type": "code",
   "execution_count": null,
   "metadata": {},
   "outputs": [],
   "source": [
    "from matplotlib.pyplot import figure, rc\n",
    "font = {'family' : 'normal',\n",
    "        'weight' : 'normal',\n",
    "        'size'   : 14}\n",
    "\n",
    "rc('font', **font)\n",
    "\n",
    "figure(figsize=(14, 8), dpi=150)\n",
    "\n",
    "plt.xticks(fontsize=14, rotation=45)\n",
    "\n",
    "ax1 = plt.gca() # get current axis\n",
    "ax2 = ax1.twinx() # Makes a copy of the current x axis, so they share the same x axis\n",
    "\n",
    "ax1.set_title(\"Tesla Web Search vs Price\", fontsize=20)\n",
    "# Set the minimum and maximum values on the axes\n",
    "ax1.set_ylim([0, 600])\n",
    "ax1.set_xlim([df_tesla.MONTH.min(), df_tesla.MONTH.max()])\n",
    "\n",
    "ax1.set_ylabel('TSLA Stock Price', color=\"blue\", fontsize=18)\n",
    "ax2.set_ylabel('Search Trend', color=\"red\", fontsize=18)\n",
    "\n",
    "# ax1.set_xticklabels(rotation=45)\n",
    " \n",
    "ax1.plot(df_tesla.MONTH, df_tesla.TSLA_USD_CLOSE, color=\"red\", label=\"Close Stock Price\")\n",
    "ax2.plot(df_tesla.MONTH, df_tesla.TSLA_WEB_SEARCH, color=\"blue\", label=\"Web Search\")\n",
    "\n",
    "plt.show()"
   ]
  },
  {
   "cell_type": "markdown",
   "metadata": {},
   "source": [
    "**Challenge**: Add colours to style the chart. This will help differentiate the two lines and the axis labels. Try using one of the blue [colour names](https://matplotlib.org/3.1.1/gallery/color/named_colors.html) for the search volume and a HEX code for a red colour for the stock price. \n",
    "<br>\n",
    "<br>\n",
    "Hint: you can colour both the [axis labels](https://matplotlib.org/3.3.2/api/text_api.html#matplotlib.text.Text) and the [lines](https://matplotlib.org/3.2.1/api/_as_gen/matplotlib.lines.Line2D.html#matplotlib.lines.Line2D) on the chart using keyword arguments (kwargs).  "
   ]
  },
  {
   "cell_type": "code",
   "execution_count": null,
   "metadata": {},
   "outputs": [],
   "source": []
  },
  {
   "cell_type": "markdown",
   "metadata": {},
   "source": [
    "**Challenge**: Make the chart larger and easier to read. \n",
    "1. Increase the figure size (e.g., to 14 by 8). \n",
    "2. Increase the font sizes for the labels and the ticks on the x-axis to 14. \n",
    "3. Rotate the text on the x-axis by 45 degrees. \n",
    "4. Make the lines on the chart thicker. \n",
    "5. Add a title that reads 'Tesla Web Search vs Price'\n",
    "6. Keep the chart looking sharp by changing the dots-per-inch or [DPI value](https://matplotlib.org/3.1.1/api/_as_gen/matplotlib.pyplot.figure.html). \n",
    "7. Set minimum and maximum values for the y and x axis. Hint: check out methods like [set_xlim()](https://matplotlib.org/3.1.1/api/_as_gen/matplotlib.axes.Axes.set_xlim.html). \n",
    "8. Finally use [plt.show()](https://matplotlib.org/3.2.1/api/_as_gen/matplotlib.pyplot.show.html) to display the chart below the cell instead of relying on the automatic notebook output."
   ]
  },
  {
   "cell_type": "code",
   "execution_count": null,
   "metadata": {},
   "outputs": [],
   "source": []
  },
  {
   "cell_type": "markdown",
   "metadata": {},
   "source": [
    "How to add tick formatting for dates on the x-axis. "
   ]
  },
  {
   "cell_type": "code",
   "execution_count": null,
   "metadata": {},
   "outputs": [],
   "source": [
    "from matplotlib.pyplot import figure, rc\n",
    "import matplotlib.dates as mdates\n",
    "\n",
    "years = mdates.YearLocator()\n",
    "months = mdates.MonthLocator()\n",
    "years_fmt = mdates.DateFormatter(\"%Y\")\n",
    "\n",
    "font = {'family' : 'normal',\n",
    "        'weight' : 'normal',\n",
    "        'size'   : 14}\n",
    "\n",
    "rc('font', **font)\n",
    "\n",
    "\n",
    "figure(figsize=(14, 8), dpi=150)\n",
    "\n",
    "plt.xticks(fontsize=14, rotation=45)\n",
    "\n",
    "ax1 = plt.gca() # get current axis\n",
    "ax2 = ax1.twinx() # Makes a copy of the current x axis, so they share the same x axis\n",
    "\n",
    "# ticks\n",
    "ax1.xaxis.set_major_locator(years)\n",
    "ax1.xaxis.set_major_formatter(years_fmt)\n",
    "ax1.tick_params(axis='both', which='major', labelsize=20, width=2.5, length=10)\n",
    "\n",
    "ax1.xaxis.set_minor_locator(months)\n",
    "ax1.tick_params(axis='both', which='minor', labelsize=5, width=1.5, length=5)\n",
    "\n",
    "\n",
    "ax1.set_title(\"Tesla Web Search vs Price\", fontsize=20)\n",
    "# Set the minimum and maximum values on the axes\n",
    "ax1.set_ylim([0, 600])\n",
    "ax1.set_xlim([df_tesla.MONTH.min(), df_tesla.MONTH.max()])\n",
    "\n",
    "ax1.set_ylabel('TSLA Stock Price', color=\"blue\", fontsize=18)\n",
    "ax2.set_ylabel('Search Trend', color=\"red\", fontsize=18)\n",
    "\n",
    "# ax1.set_xticklabels(rotation=45)\n",
    "\n",
    "\n",
    "\n",
    "ax1.plot(df_tesla.MONTH, df_tesla.TSLA_USD_CLOSE, color=\"red\", label=\"Close Stock Price\")\n",
    "ax2.plot(df_tesla.MONTH, df_tesla.TSLA_WEB_SEARCH, color=\"blue\", label=\"Web Search\")\n",
    "\n",
    "plt.show()"
   ]
  },
  {
   "cell_type": "markdown",
   "metadata": {},
   "source": [
    "### Bitcoin (BTC) Price v.s. Search Volume"
   ]
  },
  {
   "cell_type": "markdown",
   "metadata": {},
   "source": [
    "**Challenge**: Create the same chart for the Bitcoin Prices vs. Search volumes. <br>\n",
    "1. Modify the chart title to read 'Bitcoin News Search vs Resampled Price' <br>\n",
    "2. Change the y-axis label to 'BTC Price' <br>\n",
    "3. Change the y- and x-axis limits to improve the appearance <br>\n",
    "4. Investigate the [linestyles](https://matplotlib.org/3.2.1/api/_as_gen/matplotlib.pyplot.plot.html ) to make the BTC price a dashed line <br>\n",
    "5. Investigate the [marker types](https://matplotlib.org/3.2.1/api/markers_api.html) to make the search datapoints little circles <br>\n",
    "6. Were big increases in searches for Bitcoin accompanied by big increases in the price?"
   ]
  },
  {
   "cell_type": "code",
   "execution_count": null,
   "metadata": {},
   "outputs": [],
   "source": [
    "df_btc_price.head(3)"
   ]
  },
  {
   "cell_type": "code",
   "execution_count": null,
   "metadata": {},
   "outputs": [],
   "source": [
    "df_btc_search.head(3)"
   ]
  },
  {
   "cell_type": "code",
   "execution_count": null,
   "metadata": {},
   "outputs": [],
   "source": [
    "plt.figure(figsize=(14,8), dpi=120)\n",
    " \n",
    "plt.title('Bitcoin News Search vs Resampled Price', fontsize=18)\n",
    "plt.xticks(fontsize=14, rotation=45)\n",
    " \n",
    "ax1 = plt.gca()\n",
    "ax2 = ax1.twinx()\n",
    " \n",
    "ax1.set_ylabel('BTC Price', color='#F08F2E', fontsize=14)\n",
    "ax2.set_ylabel('Search Trend', color='skyblue', fontsize=14)\n",
    " \n",
    "ax1.xaxis.set_major_locator(years)\n",
    "ax1.xaxis.set_major_formatter(years_fmt)\n",
    "ax1.xaxis.set_minor_locator(months)\n",
    " \n",
    "ax1.set_ylim(bottom=0, top=16000)\n",
    "ax1.set_xlim([df_btc_monthly.index.min(), df_btc_monthly.index.max()])\n",
    " \n",
    "# Experiment with the linestyle and markers\n",
    "ax1.plot(df_btc_monthly.index, df_btc_monthly.CLOSE, \n",
    "         color='#F08F2E', linewidth=3, linestyle='--')\n",
    "ax2.plot(df_btc_monthly.index, df_btc_search.BTC_NEWS_SEARCH, \n",
    "         color='skyblue', linewidth=3, marker='o')\n",
    " \n",
    "plt.show()"
   ]
  },
  {
   "cell_type": "code",
   "execution_count": null,
   "metadata": {},
   "outputs": [],
   "source": []
  },
  {
   "cell_type": "markdown",
   "metadata": {},
   "source": [
    "### Unemployement Benefits Search vs. Actual Unemployment in the U.S."
   ]
  },
  {
   "cell_type": "markdown",
   "metadata": {},
   "source": [
    "**Challenge** Plot the search for \"unemployment benefits\" against the unemployment rate. \n",
    "1. Change the title to: Monthly Search of \"Unemployment Benefits\" in the U.S. vs the U/E Rate <br>\n",
    "2. Change the y-axis label to: FRED U/E Rate <br>\n",
    "3. Change the axis limits <br>\n",
    "4. Add a grey [grid](https://matplotlib.org/3.2.1/api/_as_gen/matplotlib.pyplot.grid.html) to the chart to better see the years and the U/E rate values. Use dashes for the line style<br> \n",
    "5. Can you discern any seasonality in the searches? Is there a pattern? "
   ]
  },
  {
   "cell_type": "code",
   "execution_count": null,
   "metadata": {},
   "outputs": [],
   "source": []
  },
  {
   "cell_type": "markdown",
   "metadata": {},
   "source": [
    "**Challenge**: Calculate the 3-month or 6-month rolling average for the web searches. Plot the 6-month rolling average search data against the actual unemployment. What do you see in the chart? Which line moves first?\n"
   ]
  },
  {
   "cell_type": "code",
   "execution_count": null,
   "metadata": {},
   "outputs": [],
   "source": [
    "plt.figure(figsize=(14,8), dpi=120)\n",
    "plt.title('Monthly Search of \"Unemployment Benefits\" in the U.S. vs the U/E Rate', fontsize=18)\n",
    "plt.yticks(fontsize=14)\n",
    "plt.xticks(fontsize=14, rotation=45)\n",
    " \n",
    "ax1 = plt.gca()\n",
    "ax2 = ax1.twinx()\n",
    " \n",
    "ax1.set_ylabel('FRED U/E Rate', color='purple', fontsize=14)\n",
    "ax2.set_ylabel('Search Trend', color='skyblue', fontsize=14)\n",
    " \n",
    "ax1.xaxis.set_major_locator(years)\n",
    "ax1.xaxis.set_major_formatter(years_fmt)\n",
    "ax1.xaxis.set_minor_locator(months)\n",
    " \n",
    "ax1.set_ylim(bottom=3, top=10.5)\n",
    "ax1.set_xlim([df_unemployment.MONTH.min(), df_unemployment.MONTH.max()])\n",
    " \n",
    "# Show the grid lines as dark grey lines\n",
    "ax1.grid(color='grey', linestyle='--')\n",
    " \n",
    "# Change the dataset used\n",
    "ax1.plot(df_unemployment.MONTH, df_unemployment.UNRATE, \n",
    "         color='purple', linewidth=3, linestyle='--')\n",
    "ax2.plot(df_unemployment.MONTH, df_unemployment.UE_BENEFITS_WEB_SEARCH, \n",
    "         color='skyblue', linewidth=3)\n",
    " \n",
    "plt.show()"
   ]
  },
  {
   "cell_type": "code",
   "execution_count": null,
   "metadata": {},
   "outputs": [],
   "source": [
    "plt.figure(figsize=(14,8), dpi=120)\n",
    "plt.title('Rolling Monthly US \"Unemployment Benefits\" Web Searches vs UNRATE', fontsize=18)\n",
    "plt.yticks(fontsize=14)\n",
    "plt.xticks(fontsize=14, rotation=45)\n",
    " \n",
    "ax1 = plt.gca()\n",
    "ax2 = ax1.twinx()\n",
    " \n",
    "ax1.xaxis.set_major_locator(years)\n",
    "ax1.xaxis.set_major_formatter(years_fmt)\n",
    "ax1.xaxis.set_minor_locator(months)\n",
    " \n",
    "ax1.set_ylabel('FRED U/E Rate', color='purple', fontsize=16)\n",
    "ax2.set_ylabel('Search Trend', color='skyblue', fontsize=16)\n",
    " \n",
    "ax1.set_ylim(bottom=3, top=10.5)\n",
    "ax1.set_xlim([df_unemployment.MONTH[0], df_unemployment.MONTH.max()])\n",
    " \n",
    "# Calculate the rolling average over a 6 month window\n",
    "roll_df = df_unemployment[['UE_BENEFITS_WEB_SEARCH', 'UNRATE']].rolling(window=6).mean()\n",
    " \n",
    "ax1.plot(df_unemployment.MONTH, roll_df.UNRATE, 'purple', linewidth=3, linestyle='-.')\n",
    "ax2.plot(df_unemployment.MONTH, roll_df.UE_BENEFITS_WEB_SEARCH, 'skyblue', linewidth=3)\n",
    " \n",
    "plt.show()"
   ]
  },
  {
   "cell_type": "markdown",
   "metadata": {},
   "source": [
    "### Including 2020 in Unemployment Charts"
   ]
  },
  {
   "cell_type": "markdown",
   "metadata": {},
   "source": [
    "**Challenge**: Read the data in the 'UE Benefits Search vs UE Rate 2004-20.csv' into a DataFrame. Convert the MONTH column to Pandas Datetime objects and then plot the chart. What do you see?"
   ]
  },
  {
   "cell_type": "code",
   "execution_count": null,
   "metadata": {},
   "outputs": [],
   "source": [
    "df_ue_2020 = pd.read_csv('UE Benefits Search vs UE Rate 2004-20.csv')\n",
    "df_ue_2020.MONTH = pd.to_datetime(df_ue_2020.MONTH)"
   ]
  },
  {
   "cell_type": "code",
   "execution_count": null,
   "metadata": {},
   "outputs": [],
   "source": [
    "plt.figure(figsize=(14,8), dpi=120)\n",
    "plt.yticks(fontsize=14)\n",
    "plt.xticks(fontsize=14, rotation=45)\n",
    "plt.title('Monthly US \"Unemployment Benefits\" Web Search vs UNRATE incl 2020', fontsize=18)\n",
    " \n",
    "ax1 = plt.gca()\n",
    "ax2 = ax1.twinx()\n",
    " \n",
    "ax1.set_ylabel('FRED U/E Rate', color='purple', fontsize=16)\n",
    "ax2.set_ylabel('Search Trend', color='skyblue', fontsize=16)\n",
    " \n",
    "ax1.set_xlim([df_ue_2020.MONTH.min(), df_ue_2020.MONTH.max()])\n",
    " \n",
    "ax1.plot(df_ue_2020.MONTH, df_ue_2020.UNRATE, 'purple', linewidth=3)\n",
    "ax2.plot(df_ue_2020.MONTH, df_ue_2020.UE_BENEFITS_WEB_SEARCH, 'skyblue', linewidth=3)\n",
    " \n",
    "plt.show()"
   ]
  },
  {
   "cell_type": "code",
   "execution_count": null,
   "metadata": {},
   "outputs": [],
   "source": []
  }
 ],
 "metadata": {
  "kernelspec": {
   "display_name": "Python 3",
   "language": "python",
   "name": "python3"
  },
  "language_info": {
   "codemirror_mode": {
    "name": "ipython",
    "version": 3
   },
   "file_extension": ".py",
   "mimetype": "text/x-python",
   "name": "python",
   "nbconvert_exporter": "python",
   "pygments_lexer": "ipython3",
   "version": "3.9.17"
  }
 },
 "nbformat": 4,
 "nbformat_minor": 2
}
